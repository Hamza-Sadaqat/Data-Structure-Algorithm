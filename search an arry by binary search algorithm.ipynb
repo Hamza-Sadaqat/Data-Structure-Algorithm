{
 "cells": [
  {
   "cell_type": "code",
   "execution_count": 1,
   "metadata": {},
   "outputs": [
    {
     "name": "stdout",
     "output_type": "stream",
     "text": [
      "Element is present at index 8\n"
     ]
    }
   ],
   "source": [
    "# Iterative Binary Search Function \n",
    "# It returns index of x in given array arr if present, \n",
    "# else returns -1 \n",
    "def binary_search(arr, x): \n",
    "    low = 0\n",
    "    high = len(arr) - 1\n",
    "    mid = 0\n",
    "  \n",
    "    while low <= high: \n",
    "  \n",
    "        mid = (high + low) // 2\n",
    "  \n",
    "        # Check if x is present at mid \n",
    "        if arr[mid] < x: \n",
    "            low = mid + 1\n",
    "  \n",
    "        # If x is greater, ignore left half \n",
    "        elif arr[mid] > x: \n",
    "            high = mid - 1\n",
    "  \n",
    "        # If x is smaller, ignore right half \n",
    "        else: \n",
    "            return mid \n",
    "  \n",
    "    # If we reach here, then the element was not present \n",
    "    return -1\n",
    "  \n",
    "  \n",
    "# Test array \n",
    "arr = [1,2,3,4,5,6,7,8,9,10] \n",
    "x = 9\n",
    "  \n",
    "# Function call \n",
    "result = binary_search(arr, x) \n",
    "  \n",
    "if result != -1: \n",
    "    print(\"Element is present at index\", str(result)) \n",
    "else: \n",
    "    print(\"Element is not present in array\")"
   ]
  },
  {
   "cell_type": "code",
   "execution_count": null,
   "metadata": {},
   "outputs": [],
   "source": []
  }
 ],
 "metadata": {
  "kernelspec": {
   "display_name": "Python 3",
   "language": "python",
   "name": "python3"
  },
  "language_info": {
   "codemirror_mode": {
    "name": "ipython",
    "version": 3
   },
   "file_extension": ".py",
   "mimetype": "text/x-python",
   "name": "python",
   "nbconvert_exporter": "python",
   "pygments_lexer": "ipython3",
   "version": "3.7.4"
  }
 },
 "nbformat": 4,
 "nbformat_minor": 2
}
